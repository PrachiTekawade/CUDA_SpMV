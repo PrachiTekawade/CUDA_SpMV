{
  "nbformat": 4,
  "nbformat_minor": 0,
  "metadata": {
    "colab": {
      "name": "cuda_notebook.ipynb",
      "provenance": [],
      "collapsed_sections": [],
      "authorship_tag": "ABX9TyONWt1QEVBc3QeJ7FBxUCWG",
      "include_colab_link": true
    },
    "kernelspec": {
      "name": "python3",
      "display_name": "Python 3"
    },
    "language_info": {
      "name": "python"
    },
    "accelerator": "GPU"
  },
  "cells": [
    {
      "cell_type": "markdown",
      "metadata": {
        "id": "view-in-github",
        "colab_type": "text"
      },
      "source": [
        "<a href=\"https://colab.research.google.com/github/PrachiTekawade/CUDA_SpMV/blob/main/cuda_notebook.ipynb\" target=\"_parent\"><img src=\"https://colab.research.google.com/assets/colab-badge.svg\" alt=\"Open In Colab\"/></a>"
      ]
    },
    {
      "cell_type": "code",
      "metadata": {
        "id": "99R_mAYJYRNz"
      },
      "source": [
        "!apt-get --purge remove cuda nvidia* libnvidia-*\n",
        "!dpkg -l | grep cuda- | awk '{print $2}' | xargs -n1 dpkg --purge\n",
        "!apt-get remove cuda-*\n",
        "!apt autoremove\n",
        "!apt-get update"
      ],
      "execution_count": null,
      "outputs": []
    },
    {
      "cell_type": "code",
      "metadata": {
        "id": "X3187qxAwL5h"
      },
      "source": [
        "!wget https://developer.nvidia.com/compute/cuda/9.2/Prod/local_installers/cuda-repo-ubuntu1604-9-2-local_9.2.88-1_amd64 -O cuda-repo-ubuntu1604-9-2-local_9.2.88-1_amd64.deb\n",
        "!dpkg -i cuda-repo-ubuntu1604-9-2-local_9.2.88-1_amd64.deb\n",
        "!apt-key add /var/cuda-repo-9-2-local/7fa2af80.pub\n",
        "!apt-get update\n",
        "!apt-get install cuda-9.2"
      ],
      "execution_count": null,
      "outputs": []
    },
    {
      "cell_type": "code",
      "metadata": {
        "id": "rEIHH2NwxksF"
      },
      "source": [
        "!nvcc --version"
      ],
      "execution_count": null,
      "outputs": []
    },
    {
      "cell_type": "code",
      "metadata": {
        "id": "pFQWFQ4p6dHI"
      },
      "source": [
        "!pip install git+git://github.com/andreinechaev/nvcc4jupyter.git"
      ],
      "execution_count": null,
      "outputs": []
    },
    {
      "cell_type": "code",
      "metadata": {
        "id": "gWABzGby6q5U"
      },
      "source": [
        "%load_ext nvcc_plugin"
      ],
      "execution_count": null,
      "outputs": []
    },
    {
      "cell_type": "code",
      "metadata": {
        "colab": {
          "base_uri": "https://localhost:8080/"
        },
        "id": "7pUgknX27uKX",
        "outputId": "fe8117e4-ddaa-4933-ca70-e2804f60f9f2"
      },
      "source": [
        "%%cu\n",
        "#include<stdio.h>\n",
        "#include<cuda.h>\n",
        "\n",
        "\n",
        "int main()\n",
        "{\n",
        "    cudaDeviceProp p;\n",
        "    int device_id;\n",
        "    int major;\n",
        "    int minor;\n",
        "\n",
        "\n",
        "    cudaGetDevice(&device_id);\n",
        "    cudaGetDeviceProperties(&p,device_id);\n",
        "\n",
        "    major=p.major;\n",
        "    minor=p.minor;\n",
        "\n",
        "    printf(\"Name of GPU on your system is %s\\n\",p.name);\n",
        "\n",
        "    printf(\"\\n Compute Capability of a current GPU on your system is %d.%d\",major,minor);\n",
        "\n",
        "    return 0;\n",
        "}\n"
      ],
      "execution_count": null,
      "outputs": [
        {
          "output_type": "stream",
          "text": [
            "Name of GPU on your system is Tesla T4\n",
            "\n",
            " Compute Capability of a current GPU on your system is 7.5\n"
          ],
          "name": "stdout"
        }
      ]
    },
    {
      "cell_type": "code",
      "metadata": {
        "colab": {
          "base_uri": "https://localhost:8080/"
        },
        "id": "q-bSXhDlNX6y",
        "outputId": "912eb38b-8dc4-44c4-911b-cd52cfaa7811"
      },
      "source": [
        "%%cu\n",
        "\n",
        "#include <cuda_runtime.h>\n",
        "#include <device_launch_parameters.h>\n",
        "#include <stdlib.h>\n",
        "#include <stdio.h>\n",
        "#include <assert.h>\n",
        "#include <math.h>\n",
        "\n",
        "// Static shmem calculation for convenience (Int 16x16 matrix)\n",
        "#define SHMEM_SIZE 16 * 16 * 4\n",
        "\n",
        "__global__ void tiledMatrixMul(int *a, int *b, int *c, int n, int tile_size) {\n",
        "\t// Two statically-sized pieces of shared memory\n",
        "\t__shared__ int A[SHMEM_SIZE];\n",
        "\t__shared__ int B[SHMEM_SIZE];\n",
        "\n",
        "\t// Shorten these parameters for clean re-use\n",
        "\tint tx = threadIdx.x;\n",
        "\tint ty = threadIdx.y;\n",
        "\tint bx = blockIdx.x;\n",
        "\tint by = blockIdx.y;\n",
        "\n",
        "\t// Calculate global row and column positions for this thread\n",
        "\tint row = by * tile_size + ty;\n",
        "\tint col = bx * tile_size + tx;\n",
        "\n",
        "\t// Intermediate sum for element being written\n",
        "\tint temp_val = 0;\n",
        "\n",
        "\t// Sweep tiles over entire matrix\n",
        "\tfor (int i = 0; i < (n / tile_size); i++) {\n",
        "\t\t/*\n",
        "\t\t\tEvery thread in a threadblock loads one element into shared memory\n",
        "\t\t\tThe element location in shared memory corresponds to the thread's\n",
        "\t\t\tposition in the threadblock (e.g. thread [0, 0] loads for \n",
        "\t\t\tA[0 * tile_size + 0], and B[0 * tile_size + 0].)\n",
        "\n",
        "\t\t\tExplanation of indexing parameters\n",
        "\t\t\tFor A:\n",
        "\t\t\t\t        row*n: Indexes the global row for this thread (loop-invariant)\n",
        "\t\t\t\t  i*tile_size: Indexes the new set of columns each iteration\n",
        "\t\t\t\t           tx: Indexes the column within that set\n",
        "\t\t\tfor B:\n",
        "\t\t\t\ti*tile_size*n: Indexes the next set of rows each iteration\n",
        "\t\t\t\t         ty*n: Indexes the row within that set\n",
        "\t\t\t\t\t\t  col: Indexes the global column (loop-invariant)\n",
        "\t\t*/\n",
        "\t\tA[(ty * tile_size) + tx] = a[row * n + (i * tile_size + tx)];\n",
        "\t\tB[(ty * tile_size) + tx] = b[(i * tile_size * n + ty * n) + col];\n",
        "\n",
        "\t\t// Ensure all threads have loaded their data before proceeding\n",
        "\t\t__syncthreads();\n",
        "\n",
        "\t\t// Calculate all temp values for this tile\n",
        "\t\tfor (int j = 0; j < tile_size; j++) {\n",
        "\t\t\ttemp_val += A[(ty * tile_size) + j] * B[(j * tile_size) + tx];\n",
        "\t\t}\n",
        "\n",
        "\t\t// Ensure some threads don't progress and stomp current shared memory values\n",
        "\t\t__syncthreads();\n",
        "\t}\n",
        "\tc[(row * n) + col] = temp_val;\n",
        "}\n",
        "\n",
        "__host__ void cpu_mvm(int* h_a, int* h_b, int* h_result, int m) {\n",
        "    for (int i = 0; i < m; ++i)\n",
        "    { \n",
        "        \n",
        "        for (int j = 0; j < m; ++j)\n",
        "        {\n",
        "            int tmp  =0;\n",
        "            for (int h = 0; h < m; ++h)\n",
        "            {\n",
        "                tmp += h_a[i * m + h] * h_b[h * m + j];\n",
        "            }\n",
        "            h_result[i * m + j] = tmp;\n",
        "        }\n",
        "        \n",
        "    }\n",
        "}\n",
        "void check_answer(int *a, int *b, int *c, int n) {\n",
        "\tint tmp;\n",
        "\tfor (int i = 0; i < n; i++) {\n",
        "\t\tfor (int j = 0; j < n; j++) {\n",
        "\t\t\ttmp = 0;\n",
        "\t\t\tfor (int k = 0; k < n; k++) {\n",
        "\t\t\t\t tmp += a[i * n + k] * b[k * n + j];\n",
        "\t\t\t}\n",
        "            assert(tmp == c[i * n + j]);\n",
        "\t\t}\n",
        "\t}\n",
        "}\n",
        "\n",
        "void init_matrix(int *a, int n) {\n",
        "\tfor (int i = 0; i < n; i++) {\n",
        "\t\tfor (int j = 0; j < n; j++) {\n",
        "\t\t\ta[i * n + j] = rand() % 10;\n",
        "\t\t}\n",
        "\t}\n",
        "}\n",
        "\n",
        "int main() {\n",
        "\t// Problem size = 1024 x 1024 matrix\n",
        "\tint n = 1024;\n",
        "\n",
        "\t// Matrix size (in bytes)\n",
        "\tsize_t bytes = n * n * sizeof(int);\n",
        "\n",
        "\t// Host matrix pointers\n",
        "\tint *h_a, *h_b, *h_c;\n",
        "\n",
        "\t// Device matrix pointers\n",
        "\tint *d_a, *d_b, *d_c;\n",
        "\n",
        "\t// Allocate host memory\n",
        "\th_a = (int*)malloc(bytes);\n",
        "\th_b = (int*)malloc(bytes);\n",
        "\th_c = (int*)malloc(bytes);\n",
        "\n",
        "\t// Allocate device memory\n",
        "\tcudaMalloc(&d_a, bytes);\n",
        "\tcudaMalloc(&d_b, bytes);\n",
        "\tcudaMalloc(&d_c, bytes);\n",
        "\n",
        "\t// Initialize matrices\n",
        "\tinit_matrix(h_a, n);\n",
        "\tinit_matrix(h_b, n);\n",
        "\n",
        "\t// Copy matrices to the device\n",
        "\tcudaMemcpy(d_a, h_a, bytes, cudaMemcpyHostToDevice);\n",
        "\tcudaMemcpy(d_b, h_b, bytes, cudaMemcpyHostToDevice);\n",
        "\n",
        "\t// Threads per block (in both x and y dimensions)\n",
        "\tint BLOCK_SIZE = 4;\n",
        "\n",
        "\t// Blocks in each dimension\n",
        "\tint GRID_SIZE = (n + BLOCK_SIZE - 1) / BLOCK_SIZE;\n",
        "\n",
        "\t// Use dim3 objects for 2-D grids and threadblocks\n",
        "\tdim3 grid(GRID_SIZE, GRID_SIZE);\n",
        "\tdim3 threads(BLOCK_SIZE, BLOCK_SIZE);\n",
        "\n",
        "    cudaEvent_t start, stop;\n",
        "    cudaEventCreate(&start);\n",
        "    cudaEventCreate(&stop);\n",
        "\n",
        "    cudaEventRecord(start);\n",
        "\t\n",
        "\t// Launch kernel\n",
        "\ttiledMatrixMul <<<grid, threads>>> (d_a, d_b, d_c, n, BLOCK_SIZE);\n",
        "    cudaEventRecord(stop);\n",
        "    cudaEventSynchronize(stop);\n",
        "    float milliseconds = 0;\n",
        "    cudaEventElapsedTime(&milliseconds, start, stop);\n",
        "    printf(\"runtime : %.4f\\n\", milliseconds*1000);\n",
        "\n",
        "\t// Copy result back from device\n",
        "\tcudaMemcpy(h_c, d_c, bytes, cudaMemcpyDeviceToHost);\t\n",
        "\n",
        "\t// Verify the result\n",
        "//\tcheck_answer(h_a, h_b, h_c, n);\n",
        "\n",
        "   clock_t begin = clock();\n",
        "\n",
        "    cpu_mvm(h_a,h_b,h_c,n); //matrix multiplication on cpu\n",
        "\n",
        "    clock_t end = clock();\n",
        "    double time_spent = (double)1000*(end - begin) / CLOCKS_PER_SEC;\n",
        "  printf(\" CPU runtime : %lf\\n\", time_spent);\n",
        "\t// Free host memory\n",
        "\tfree(h_a);\n",
        "\tfree(h_b);\n",
        "\tfree(h_c);\n",
        "\n",
        "\t// Free device memory\n",
        "\tcudaFree(d_a);\n",
        "\tcudaFree(d_b);\n",
        "\tcudaFree(d_c);\n",
        "\n",
        "\tprintf(\"COMPLETED SUCCESSFULLY\\n\");\n",
        "\n",
        "\treturn 0;\n",
        "}\n",
        "\n"
      ],
      "execution_count": null,
      "outputs": [
        {
          "output_type": "stream",
          "text": [
            "runtime : 44.0739\n",
            " CPU runtime : 7021.771000\n",
            "COMPLETED SUCCESSFULLY\n",
            "\n"
          ],
          "name": "stdout"
        }
      ]
    }
  ]
}